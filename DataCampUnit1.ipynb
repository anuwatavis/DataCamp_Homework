{
 "cells": [
  {
   "cell_type": "code",
   "execution_count": 9,
   "metadata": {},
   "outputs": [
    {
     "name": "stdout",
     "output_type": "stream",
     "text": [
      "5 92\n"
     ]
    }
   ],
   "source": [
    "#QUIT 1\n",
    "answer1  = 2345 % 13\n",
    "answer2 = 1567 // 17\n",
    "#FirstName กับ Firstname ไม่เป็นตัวแปรเดียวกัน\n",
    "#13Friday ไม่เป็นตัวแปรที่ถูกต้อง\n",
    "print(\"{} {}\".format(answer1, answer2))\n"
   ]
  },
  {
   "cell_type": "code",
   "execution_count": 18,
   "metadata": {},
   "outputs": [
    {
     "name": "stdout",
     "output_type": "stream",
     "text": [
      "3.0\n"
     ]
    }
   ],
   "source": [
    "#QUIT 2.1\n",
    "func_01 = lambda x : x/3\n",
    "print(func_01(9))"
   ]
  },
  {
   "cell_type": "code",
   "execution_count": 21,
   "metadata": {},
   "outputs": [
    {
     "name": "stdout",
     "output_type": "stream",
     "text": [
      "5.5\n"
     ]
    }
   ],
   "source": [
    "#QUIT 2.2\n",
    "def average_01(x1,x2,x3,x4):\n",
    "    return (x1+x2+x3+x4)/4\n",
    "print(average_01(4, 5, 6, 7))"
   ]
  },
  {
   "cell_type": "code",
   "execution_count": 10,
   "metadata": {},
   "outputs": [
    {
     "name": "stdout",
     "output_type": "stream",
     "text": [
      "5.0\n"
     ]
    }
   ],
   "source": [
    "#QUIT 2.3\n",
    "average_02 = (lambda x1, x2, x3 : (x1+x2+x3) / 3)(4, 5, 6)\n",
    "print(average_02)"
   ]
  },
  {
   "cell_type": "code",
   "execution_count": 29,
   "metadata": {},
   "outputs": [
    {
     "name": "stdout",
     "output_type": "stream",
     "text": [
      "['sukthong', 167, 60]\n"
     ]
    },
    {
     "data": {
      "text/plain": [
       "[11, 'anuwat', 'sukthong', 167, 60]"
      ]
     },
     "execution_count": 29,
     "metadata": {},
     "output_type": "execute_result"
    }
   ],
   "source": [
    "#QUIT 3\n",
    "my_data = ['anuwat', 'sukthong', 21]\n",
    "del my_data[2]\n",
    "my_data.insert(0,11)\n",
    "my_data.append(167)\n",
    "my_data.append(60)\n",
    "print(my_data[3:])\n",
    "\n",
    "#show all my_data\n",
    "my_data\n"
   ]
  },
  {
   "cell_type": "code",
   "execution_count": 44,
   "metadata": {},
   "outputs": [
    {
     "data": {
      "text/plain": [
       "6"
      ]
     },
     "execution_count": 44,
     "metadata": {},
     "output_type": "execute_result"
    }
   ],
   "source": [
    "#QUIT 4.1\n",
    "a = [[[1,3], [3,4]], [5, [5,6],[7,8]]]\n",
    "a[1][1][1]"
   ]
  },
  {
   "cell_type": "code",
   "execution_count": 62,
   "metadata": {},
   "outputs": [
    {
     "data": {
      "text/plain": [
       "[['Ball', 'Anuwat', [74, 24]],\n",
       " ['Anuwat', 'sukthong', [70, 20]],\n",
       " ['Anuwat', 'ThongSukt', [64, 22]],\n",
       " ['Anu', 'Wat', [62, 24]]]"
      ]
     },
     "execution_count": 62,
     "metadata": {},
     "output_type": "execute_result"
    }
   ],
   "source": [
    "#QUIT 4.2\n",
    "name = [['Anuwat', 'sukthong', [60,20]], ['Anuwat', 'ThongSukt', [64,22]], ['Anu', 'Wat', [62,24]], ['Sukt','Anu', [65,27]]]\n",
    "del name[3]\n",
    "name.insert(0, ['Ball', 'Anuwat', [74,24]]);\n",
    "name[1][2][0] = name[1][2][0] +10 \n",
    "name\n"
   ]
  },
  {
   "cell_type": "code",
   "execution_count": 69,
   "metadata": {},
   "outputs": [
    {
     "name": "stdout",
     "output_type": "stream",
     "text": [
      "[1, 8, 27, 64, 125, 216, 343, 512, 729, 1000]\n",
      "[1, 8, 27, 64, 125, 216, 343, 512, 729, 1000]\n"
     ]
    }
   ],
   "source": [
    "#QUIT 5.1\n",
    "lst = [1, 2, 3, 4, 5, 6, 7, 8, 9, 10]\n",
    "final_lst1 = map(lambda x: x*x*x, lst)\n",
    "print(list(final_lst1))\n",
    "\n",
    "def thirdPower(x) :\n",
    "    return x*x*x\n",
    "\n",
    "final_lst2 = map(thirdPower, lst)\n",
    "print(list(final_lst2))\n"
   ]
  },
  {
   "cell_type": "code",
   "execution_count": 85,
   "metadata": {},
   "outputs": [
    {
     "name": "stdout",
     "output_type": "stream",
     "text": [
      "[1, 3, 5, 7, 9]\n",
      "[1, 3, 5, 7, 9]\n"
     ]
    }
   ],
   "source": [
    "#QUIT 5.2\n",
    "lst = [1, 2, 3, 4, 5, 6, 7, 8, 9, 10]\n",
    "final_lst1 = filter(lambda x : (x%2 != 0), lst)\n",
    "print(list(final_lst1))\n",
    "\n",
    "def twoDivied(x) :\n",
    "    if(x%2 != 0):\n",
    "        return x\n",
    "final_lst2 = filter(twoDivied, lst)\n",
    "print(list(final_lst2))\n"
   ]
  },
  {
   "cell_type": "code",
   "execution_count": 87,
   "metadata": {},
   "outputs": [
    {
     "data": {
      "text/plain": [
       "[1, 3, 5, 7, 9]"
      ]
     },
     "execution_count": 87,
     "metadata": {},
     "output_type": "execute_result"
    }
   ],
   "source": [
    "#Quiz 6.1\n",
    "lst = [1, 2, 3, 4, 5]\n",
    "lst_1 = [(x*2)-1 for x in lst]\n",
    "lst_1"
   ]
  },
  {
   "cell_type": "code",
   "execution_count": 91,
   "metadata": {},
   "outputs": [
    {
     "data": {
      "text/plain": [
       "[1, 8, 64, 125, 343, 512, 1000, 1331, 2197]"
      ]
     },
     "execution_count": 91,
     "metadata": {},
     "output_type": "execute_result"
    }
   ],
   "source": [
    "#Quiz 6.2\n",
    "lst = [1, 2, 3, 4, 5, 6, 7, 8, 9, 10, 11, 12, 13]\n",
    "lst_1 = [x*x*x for x in lst if(x%3 != 0)]\n",
    "lst_1"
   ]
  },
  {
   "cell_type": "code",
   "execution_count": 99,
   "metadata": {},
   "outputs": [
    {
     "name": "stdout",
     "output_type": "stream",
     "text": [
      "A\n"
     ]
    }
   ],
   "source": [
    "#Quiz 7\n",
    "score = 99\n",
    "if score > 80:\n",
    "    print('A')\n",
    "elif score > 70:\n",
    "    print('B')\n",
    "elif score > 60:\n",
    "    print('C')\n",
    "elif score > 50:\n",
    "    print('D')\n",
    "else :\n",
    "    print('F')\n",
    "\n",
    "\n"
   ]
  },
  {
   "cell_type": "code",
   "execution_count": 101,
   "metadata": {},
   "outputs": [
    {
     "name": "stdout",
     "output_type": "stream",
     "text": [
      "[2, 9, 1, 81, 32]\n"
     ]
    }
   ],
   "source": [
    "#Quiz 8.1 lamda function\n",
    "A = [1, 2, 3, 4, 5]\n",
    "B = [2, 3, 1, 3, 2]\n",
    "final_lst = map(lambda a,b : b**a, A, B)\n",
    "print(list(final_lst))"
   ]
  },
  {
   "cell_type": "code",
   "execution_count": 1,
   "metadata": {},
   "outputs": [
    {
     "name": "stdout",
     "output_type": "stream",
     "text": [
      "[2, 9, 1, 81, 32]\n"
     ]
    }
   ],
   "source": [
    "#Quiz 8.1 normal function\n",
    "A = [1, 2, 3, 4, 5]\n",
    "B = [2, 3, 1, 3, 2]\n",
    "def bPower(x,y) :\n",
    "    return y**x\n",
    "final_lst = map(bPower, A, B)\n",
    "print(list(final_lst))\n",
    "    "
   ]
  },
  {
   "cell_type": "code",
   "execution_count": 105,
   "metadata": {},
   "outputs": [
    {
     "name": "stdout",
     "output_type": "stream",
     "text": [
      "[('anuwat', 6, 10), ('Peter', 5, 20), ('Potter', 11, 32)]\n"
     ]
    }
   ],
   "source": [
    "#Quiz 8.2\n",
    "names = ['anuwat', 'Peter', 'Potter']\n",
    "numbers = [6, 5, 11]\n",
    "scores = [10, 20, 32]\n",
    "result = zip(names, numbers, scores)\n",
    "print(list(result))"
   ]
  },
  {
   "cell_type": "code",
   "execution_count": 109,
   "metadata": {},
   "outputs": [
    {
     "name": "stdout",
     "output_type": "stream",
     "text": [
      "244140625\n"
     ]
    }
   ],
   "source": [
    "#Quiz 9.1\n",
    "from functools import reduce\n",
    "lst = [5, 2, 1, 3, 2]\n",
    "result = reduce(lambda x,y : x**y, lst)\n",
    "print(result)\n"
   ]
  },
  {
   "cell_type": "code",
   "execution_count": 110,
   "metadata": {},
   "outputs": [
    {
     "name": "stdout",
     "output_type": "stream",
     "text": [
      "3628800\n"
     ]
    }
   ],
   "source": [
    "lst = [1, 2, 3, 4, 5, 6, 7, 8, 9, 10]\n",
    "result = reduce(lambda x,y : x*y, lst)\n",
    "print(result)"
   ]
  },
  {
   "cell_type": "code",
   "execution_count": null,
   "metadata": {},
   "outputs": [],
   "source": []
  }
 ],
 "metadata": {
  "kernelspec": {
   "display_name": "Python 3",
   "language": "python",
   "name": "python3"
  },
  "language_info": {
   "codemirror_mode": {
    "name": "ipython",
    "version": 3
   },
   "file_extension": ".py",
   "mimetype": "text/x-python",
   "name": "python",
   "nbconvert_exporter": "python",
   "pygments_lexer": "ipython3",
   "version": "3.7.4"
  }
 },
 "nbformat": 4,
 "nbformat_minor": 2
}
